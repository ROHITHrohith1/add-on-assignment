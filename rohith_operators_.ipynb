{
  "nbformat": 4,
  "nbformat_minor": 0,
  "metadata": {
    "colab": {
      "provenance": []
    },
    "kernelspec": {
      "name": "python3",
      "display_name": "Python 3"
    },
    "language_info": {
      "name": "python"
    }
  },
  "cells": [
    {
      "cell_type": "code",
      "execution_count": null,
      "metadata": {
        "colab": {
          "base_uri": "https://localhost:8080/"
        },
        "id": "lZxxejJ-nPwr",
        "outputId": "498f3fd1-6e92-473c-edba-fd64573105cf"
      },
      "outputs": [
        {
          "output_type": "stream",
          "name": "stdout",
          "text": [
            "enter the radius of a circle4\n",
            "the area of the circle = 50.24\n"
          ]
        }
      ],
      "source": [
        "'''Write a Python program to find the area of a circle with a given radius\n",
        "using the formula area = pi * r ** 2. Assume that pi is 3.14.'''\n",
        "radius=int(input('enter the radius of a circle'))\n",
        "area=3.14*radius**2\n",
        "print('the area of the circle =',area)"
      ]
    },
    {
      "cell_type": "code",
      "source": [
        "'''Write a Python program to convert Celsius to Fahrenheit using the\n",
        "formula F = (C * 9/5) + 32.'''\n",
        "c=float(input('enter the celsius'))\n",
        "f=(c*9/5)+32\n",
        "print('the temmperature in fahrenheit' ,f)\n"
      ],
      "metadata": {
        "colab": {
          "base_uri": "https://localhost:8080/"
        },
        "id": "XaVhYRdLnoKF",
        "outputId": "7b767c33-b4a4-4773-b1d8-d741a93ca2c7"
      },
      "execution_count": null,
      "outputs": [
        {
          "output_type": "stream",
          "name": "stdout",
          "text": [
            "enter the celsius25\n",
            "the temmperature in fahrenheit 77.0\n"
          ]
        }
      ]
    },
    {
      "cell_type": "code",
      "source": [
        "'''Write a Python program to find the quotient and remainder of two\n",
        "numbers using the division operator / and the modulo operator %.'''\n",
        "n1=int(input('enter the first number:'))\n",
        "n2=int(input('enter the second number:'))\n",
        "quotient=n1/n2\n",
        "remainder=n1%n2\n",
        "print('the quotient of',n1,'and',n2,'is',quotient)\n",
        "print('the remainder of',n2,'and',n2,'is',remainder)"
      ],
      "metadata": {
        "colab": {
          "base_uri": "https://localhost:8080/"
        },
        "id": "FNwiGJiDq9z1",
        "outputId": "492167f3-9234-4acc-b9ed-0e0a7a29a777"
      },
      "execution_count": null,
      "outputs": [
        {
          "output_type": "stream",
          "name": "stdout",
          "text": [
            "enter the first number:21\n",
            "enter the second number:23\n",
            "the quotient of 21 and 23 is 0.9130434782608695\n",
            "the remainder of 23 and 23 is 21\n"
          ]
        }
      ]
    },
    {
      "cell_type": "code",
      "source": [
        "'''Write a Python program to check whether a given number is even or odd\n",
        "using the modulo operator %.'''\n",
        "number=int(input('enter the number'))\n",
        "if number % 2==0:\n",
        "  print('the given number is even')\n",
        "else:\n",
        "  print('the given number is odd')"
      ],
      "metadata": {
        "colab": {
          "base_uri": "https://localhost:8080/"
        },
        "id": "yU08KApDsrW2",
        "outputId": "73b4011e-abd3-4554-957a-bf1e24f273f9"
      },
      "execution_count": null,
      "outputs": [
        {
          "output_type": "stream",
          "name": "stdout",
          "text": [
            "enter the number3\n",
            "the given number is odd\n"
          ]
        }
      ]
    },
    {
      "cell_type": "code",
      "source": [
        "'''Write a Python program to calculate the average of three numbers\n",
        "entered by the user.'''\n",
        "n1=int(input('enter the first number'))\n",
        "n2=int(input('enter the second number'))\n",
        "n3=int(input('enetr the third number'))\n",
        "avg=(n1+n2+n3)/3\n",
        "print('the average of the three number',avg)"
      ],
      "metadata": {
        "colab": {
          "base_uri": "https://localhost:8080/"
        },
        "id": "vVM2RCgIt7nK",
        "outputId": "74f383e9-b70f-4fe3-da74-17fc87c8b74e"
      },
      "execution_count": null,
      "outputs": [
        {
          "output_type": "stream",
          "name": "stdout",
          "text": [
            "enter the first number3\n",
            "enter the second number8\n",
            "enetr the third number7\n",
            "the average of the three number 6.0\n"
          ]
        }
      ]
    },
    {
      "cell_type": "code",
      "source": [
        "'''Write a python program to swap two variables without using temperory variable.'''\n",
        "v1=int(input(' enter the first variable one :'))\n",
        "v2=int(input('enter the second variable one :'))\n",
        "v1=v1+v2\n",
        "v2=v1-v2\n",
        "v1=v1-v2\n",
        "print('the value of v1 is now =',v1)\n",
        "print('the value of v2 is now =',v2)"
      ],
      "metadata": {
        "id": "XNISjpiJvBM2",
        "colab": {
          "base_uri": "https://localhost:8080/"
        },
        "outputId": "5dde7192-792f-4277-f50b-32261b66f6cf"
      },
      "execution_count": null,
      "outputs": [
        {
          "output_type": "stream",
          "name": "stdout",
          "text": [
            " enter the first variable one :3\n",
            "enter the second variable one :6\n",
            "the value of v1 is now = 6\n",
            "the value of v2 is now = 3\n"
          ]
        }
      ]
    },
    {
      "cell_type": "code",
      "source": [
        "'''Write a Python program to calculate the area of a rectangle with given length and breadth.'''\n",
        "\n",
        "l=90\n",
        "b=82\n",
        "area=l*b\n",
        "print(\"The area of the rectangle is:\",area)"
      ],
      "metadata": {
        "colab": {
          "base_uri": "https://localhost:8080/"
        },
        "id": "XwgdnkGjnU4j",
        "outputId": "1d902209-4a02-4211-c833-f0d192b39621"
      },
      "execution_count": null,
      "outputs": [
        {
          "output_type": "stream",
          "name": "stdout",
          "text": [
            "The area of the rectangle is: 7380\n"
          ]
        }
      ]
    },
    {
      "cell_type": "code",
      "source": [
        "'''Write a Python program to calculate the sum of the digits of a three-digit number.'''\n",
        "n = int(input(\"Enter the three digit number:\"))\n",
        "if 99 < n < 1000:\n",
        "  sod= n % 10 + (n // 10) % 10 + n // 100\n",
        "  print(\"The sum of the digits of the number is\", sod)\n",
        "else:\n",
        "    print(\"Please enter a valid three-digit number.\")"
      ],
      "metadata": {
        "colab": {
          "base_uri": "https://localhost:8080/"
        },
        "id": "9buI1pyInWoe",
        "outputId": "a9af1d68-a77b-4bdd-81f0-f5b7e36e0b64"
      },
      "execution_count": null,
      "outputs": [
        {
          "output_type": "stream",
          "name": "stdout",
          "text": [
            "Enter the three digit number:346\n",
            "The sum of the digits of the number is 13\n"
          ]
        }
      ]
    },
    {
      "cell_type": "code",
      "source": [
        "'''Write a Python program to check whether a given year is a leap year or not.'''\n",
        "\n",
        "yr=int(input(\"Enter a year:\"))\n",
        "if yr%4==0 and yr%100 !=0 or yr%400==0:\n",
        "  print(yr,\"is a leap year\")\n",
        "else:\n",
        "  print(yr,\"is not a leap year\")"
      ],
      "metadata": {
        "colab": {
          "base_uri": "https://localhost:8080/"
        },
        "id": "wK968o5Qnjq4",
        "outputId": "634bb9e7-596d-4500-c202-8867f7e2ee20"
      },
      "execution_count": null,
      "outputs": [
        {
          "output_type": "stream",
          "name": "stdout",
          "text": [
            "Enter a year:2003\n",
            "2003 is not a leap year\n"
          ]
        }
      ]
    },
    {
      "cell_type": "code",
      "source": [
        "'''Write a Python program to find the maximum and minimum of two numbers entered by the user.'''\n",
        "\n",
        "import math\n",
        "a=int(input(\"Enter the first number:\"))\n",
        "b=int(input(\"Enter the second number:\"))\n",
        "if a>b:\n",
        "  max=a\n",
        "  min=b\n",
        "else:\n",
        "  max=b\n",
        "  min=a\n",
        "print(\"The maximum of\",a,\"and\",b,\"is:\",max)\n",
        "print(\"The minimum of\",a,\"and\",b,\"is:\",min)"
      ],
      "metadata": {
        "colab": {
          "base_uri": "https://localhost:8080/"
        },
        "id": "AKbzLWiYnvAY",
        "outputId": "f9c91a78-806e-43e1-cc06-3ff3c852d9d7"
      },
      "execution_count": null,
      "outputs": [
        {
          "output_type": "stream",
          "name": "stdout",
          "text": [
            "Enter the first number:20\n",
            "Enter the second number:43\n",
            "The maximum of 20 and 43 is: 43\n",
            "The minimum of 20 and 43 is: 20\n"
          ]
        }
      ]
    },
    {
      "cell_type": "code",
      "source": [],
      "metadata": {
        "id": "rzC3al68oBV8"
      },
      "execution_count": null,
      "outputs": []
    }
  ]
}