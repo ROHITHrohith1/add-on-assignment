{
  "nbformat": 4,
  "nbformat_minor": 0,
  "metadata": {
    "colab": {
      "provenance": []
    },
    "kernelspec": {
      "name": "python3",
      "display_name": "Python 3"
    },
    "language_info": {
      "name": "python"
    }
  },
  "cells": [
    {
      "cell_type": "code",
      "execution_count": null,
      "metadata": {
        "id": "nIPKFzAgJ2S0"
      },
      "outputs": [],
      "source": [
        "1. '''Write a Python function to accept a string value from the user and display the\n",
        "count of each character in that string.'''\n",
        "string=str(input('enter the string'))\n",
        "len(\"length of the string\")"
      ]
    },
    {
      "cell_type": "code",
      "source": [
        " '''Write a Python function to find the maximum of three numbers'''\n",
        "\n",
        "num1=int(input(\"enter the first number\"))\n",
        "num2=int(input(\"enter the second number\"))\n",
        "num3=int(input(\"enter the third number\"))\n",
        "if num1>num2 and num1>num3:\n",
        "  print(num1,\"is the largest\")\n",
        "elif num2>num1 and num2>num3:\n",
        "  print(num2,\"is the largest\")\n",
        "else:\n",
        "  print(num3,\"is the largest\")\n"
      ],
      "metadata": {
        "colab": {
          "base_uri": "https://localhost:8080/"
        },
        "id": "MEphrcaeL1e9",
        "outputId": "b2b1ac98-e781-4ac4-8b59-485269b64b01"
      },
      "execution_count": 13,
      "outputs": [
        {
          "output_type": "stream",
          "name": "stdout",
          "text": [
            "enter the first number23\n",
            "enter the second number42\n",
            "enter the third number12\n",
            "42 is the largest\n"
          ]
        }
      ]
    },
    {
      "cell_type": "code",
      "source": [
        "'''Write a Python function called exponent(base,exp) that returns an integer\n",
        "value of base raises to the power of exp'''\n",
        "\n",
        "base=int(input('enter the base value'))\n",
        "exp=int(input('enter the exponent value'))\n",
        "def exponent(base,exp):\n",
        " return(base**exp)\n",
        "print(exponent(base,exp))\n"
      ],
      "metadata": {
        "colab": {
          "base_uri": "https://localhost:8080/"
        },
        "id": "K3UofygsU-eq",
        "outputId": "f534a19a-ef4d-4295-b217-7a7f4f26a109"
      },
      "execution_count": 17,
      "outputs": [
        {
          "output_type": "stream",
          "name": "stdout",
          "text": [
            "enter the base value2\n",
            "enter the exponent value3\n",
            "8\n"
          ]
        }
      ]
    },
    {
      "cell_type": "code",
      "source": [
        " '''Write a Python function to convert temperatures to and from Celsius\n",
        "Fahrenheit. [Formula: c/5=f-32/9 where c=temperature in Celsius and f=\n",
        "temperature in Fahrenheit.]'''\n",
        "\n",
        "c=float(input(\"Enter the celsius:\"))\n",
        "f = (c * 9/5) + 32\n",
        "print(\"The temperature in Fahrenheit is:\", f)"
      ],
      "metadata": {
        "colab": {
          "base_uri": "https://localhost:8080/"
        },
        "id": "2wrhAHVtZM7f",
        "outputId": "d264ebeb-dc3a-46b3-9506-7170155cfaee"
      },
      "execution_count": 18,
      "outputs": [
        {
          "output_type": "stream",
          "name": "stdout",
          "text": [
            "Enter the celsius:31\n",
            "The temperature in Fahrenheit is: 87.8\n"
          ]
        }
      ]
    },
    {
      "cell_type": "code",
      "source": [
        "'''10=Write a Python function to calculate the factorial of a number (a nonnegative integer). The function accepts the number as an argument.'''\n",
        "\n",
        "import math\n",
        "number=int(input(\"Enter the number\"))\n",
        "def fact(n):\n",
        "  if n>1:\n",
        "    fact=math.factorial(n)\n",
        "    return fact\n",
        "  else:\n",
        "    return(\"invalead input\")\n",
        "\n",
        "print(fact(number))"
      ],
      "metadata": {
        "colab": {
          "base_uri": "https://localhost:8080/"
        },
        "id": "XeiMVo9t6RIk",
        "outputId": "2bb86d0a-2fbb-4200-ff67-7c9e7896b1c0"
      },
      "execution_count": 33,
      "outputs": [
        {
          "output_type": "stream",
          "name": "stdout",
          "text": [
            "Enter the number3\n",
            "6\n"
          ]
        }
      ]
    },
    {
      "cell_type": "code",
      "source": [
        "#4\n",
        "\n",
        "def cubes(n):\n",
        "    s=sum(i**3 for i in range(n))\n",
        "    return(s)\n",
        "\n",
        "number=int(input(\"Enter the number\"))\n",
        "print(cubes(number))"
      ],
      "metadata": {
        "id": "XS-bq82375Lm"
      },
      "execution_count": null,
      "outputs": []
    },
    {
      "cell_type": "code",
      "source": [
        "'''Write a Python program using for loop that will iterate from 1 to 15. For each\n",
        "iteration, check if the current number is odd or even, and display the message\n",
        "to the screen as odd or even'''\n",
        "def evenodd(n):\n",
        "  if n%2==0:\n",
        "    value=\"even\"\n",
        "    return value\n",
        "  else:\n",
        "   value=\"odd\"\n",
        "   return value\n",
        "for i in range (1,16):\n",
        "  print(i,\"-\",evenodd(i))"
      ],
      "metadata": {
        "colab": {
          "base_uri": "https://localhost:8080/"
        },
        "id": "2XgTGZsKbppC",
        "outputId": "bf84644f-5eca-4bba-efe7-c9bb07afd3a9"
      },
      "execution_count": 22,
      "outputs": [
        {
          "output_type": "stream",
          "name": "stdout",
          "text": [
            "1 - odd\n",
            "2 - even\n",
            "3 - odd\n",
            "4 - even\n",
            "5 - odd\n",
            "6 - even\n",
            "7 - odd\n",
            "8 - even\n",
            "9 - odd\n",
            "10 - even\n",
            "11 - odd\n",
            "12 - even\n",
            "13 - odd\n",
            "14 - even\n",
            "15 - odd\n"
          ]
        }
      ]
    },
    {
      "cell_type": "code",
      "source": [
        "'''6=Write a Python function to find the most frequent item in a list of numbers. '''\n",
        "\n",
        "l1=[2, 3, 4, 2, 5, 2]\n",
        "\n",
        "def frequent(numbers):\n",
        "    freeruent= max(set(numbers), key=numbers.count)\n",
        "    return freeruent\n",
        "\n",
        "print(frequent(l1))"
      ],
      "metadata": {
        "colab": {
          "base_uri": "https://localhost:8080/"
        },
        "id": "1ohClpMX7qSp",
        "outputId": "4f8df722-1a5b-4a86-ff55-44899a8b5f55"
      },
      "execution_count": 35,
      "outputs": [
        {
          "output_type": "stream",
          "name": "stdout",
          "text": [
            "2\n"
          ]
        }
      ]
    },
    {
      "cell_type": "code",
      "source": [
        "''' Write a Python function to find the sum of squares of the numbers in a list'''\n",
        "l1=[1,2,3,4,5,6]\n",
        "sum=0\n",
        "for num in l1:\n",
        "    a=num**2\n",
        "    sum=sum+a\n",
        "print(sum)\n",
        "\n"
      ],
      "metadata": {
        "colab": {
          "base_uri": "https://localhost:8080/"
        },
        "id": "DVrJ0YP6d290",
        "outputId": "76599880-4053-464c-9f6e-8116d7b79c31"
      },
      "execution_count": 30,
      "outputs": [
        {
          "output_type": "stream",
          "name": "stdout",
          "text": [
            "91\n"
          ]
        }
      ]
    },
    {
      "cell_type": "code",
      "source": [
        "#case study GRADE CALCULATION\n"
      ],
      "metadata": {
        "id": "YTU7ljQmuf0E"
      },
      "execution_count": 29,
      "outputs": []
    },
    {
      "cell_type": "code",
      "source": [
        "name=char(input('enter the name'))\n",
        "assesment=int(input('enter the number ofassesment'))\n",
        "for i in assesment:\n",
        "  type_of_assesment=input('entr the name of assesment,'i)\n",
        " score_of_assesment=int(input('enter the score of',type_of_assesment))\n"
      ],
      "metadata": {
        "colab": {
          "base_uri": "https://localhost:8080/",
          "height": 106
        },
        "id": "-CJIsCdnyyjl",
        "outputId": "afa96126-e2c1-461d-c855-a637822587fc"
      },
      "execution_count": 32,
      "outputs": [
        {
          "output_type": "error",
          "ename": "IndentationError",
          "evalue": "unindent does not match any outer indentation level (<tokenize>, line 5)",
          "traceback": [
            "\u001b[0;36m  File \u001b[0;32m\"<tokenize>\"\u001b[0;36m, line \u001b[0;32m5\u001b[0m\n\u001b[0;31m    score_of_assesment=int(input('enter the score of',type_of_assesment))\u001b[0m\n\u001b[0m    ^\u001b[0m\n\u001b[0;31mIndentationError\u001b[0m\u001b[0;31m:\u001b[0m unindent does not match any outer indentation level\n"
          ]
        }
      ]
    },
    {
      "cell_type": "code",
      "source": [],
      "metadata": {
        "id": "xhiJj24I4EZC"
      },
      "execution_count": null,
      "outputs": []
    }
  ]
}